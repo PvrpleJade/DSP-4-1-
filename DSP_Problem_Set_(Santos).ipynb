{
  "nbformat": 4,
  "nbformat_minor": 0,
  "metadata": {
    "colab": {
      "provenance": [],
      "authorship_tag": "ABX9TyMN5JYUAK8dZPaO9diWBCwA",
      "include_colab_link": true
    },
    "kernelspec": {
      "name": "python3",
      "display_name": "Python 3"
    },
    "language_info": {
      "name": "python"
    }
  },
  "cells": [
    {
      "cell_type": "markdown",
      "metadata": {
        "id": "view-in-github",
        "colab_type": "text"
      },
      "source": [
        "<a href=\"https://colab.research.google.com/github/PvrpleJade/DSP-4-1-/blob/main/DSP_Problem_Set_(Santos).ipynb\" target=\"_parent\"><img src=\"https://colab.research.google.com/assets/colab-badge.svg\" alt=\"Open In Colab\"/></a>"
      ]
    },
    {
      "cell_type": "markdown",
      "source": [
        "#Part 1\n",
        "\n",
        "#####[150 pts] Solve for the magnitude and angle of the linear transformations given. Provide necessary solutions numerically (hand-solved) and computationally (using a Python program). Also provide the necessary solutions vector plots of the given matrices and their transformations (nos. 1-5.)\n",
        "\n",
        "H = $\\frac{1}{\\sqrt{2}} \\begin{bmatrix}\n",
        "1 & 1 \\\\\n",
        "1 & -1\n",
        "\\end{bmatrix} , Y =\\begin{bmatrix}\n",
        "0 & -i \\\\\n",
        "i & 0\n",
        "\\end{bmatrix} , O =\\begin{bmatrix}\n",
        "1 & 0 \\\\\n",
        "1 & 1\n",
        "\\end{bmatrix}$\n",
        "\n",
        "\n"
      ],
      "metadata": {
        "id": "QZIps08d_hHR"
      }
    },
    {
      "cell_type": "markdown",
      "source": [
        "1. H ⋅ Y"
      ],
      "metadata": {
        "id": "2Y_qhAqRBDQH"
      }
    },
    {
      "cell_type": "code",
      "execution_count": 3,
      "metadata": {
        "colab": {
          "base_uri": "https://localhost:8080/"
        },
        "id": "o3rBUkIo_a-p",
        "outputId": "3beab59f-ac8f-4ef6-9109-36f305367edd"
      },
      "outputs": [
        {
          "output_type": "stream",
          "name": "stdout",
          "text": [
            "[[0.+0.70710678j 0.-0.70710678j]\n",
            " [0.-0.70710678j 0.-0.70710678j]]\n",
            "Angle: [[ 1.57079633 -1.57079633]\n",
            " [-1.57079633 -1.57079633]]\n",
            "Magnitude: 1.414213562373095\n",
            "[[0.70710678 0.70710678]\n",
            " [0.70710678 0.70710678]]\n"
          ]
        }
      ],
      "source": [
        "import numpy as np\n",
        "import matplotlib.pyplot as plt\n",
        "\n",
        "i=1j\n",
        "H = 1/np.sqrt(2) * np.array([[1, 1],\n",
        "                            [1,-1]])\n",
        "Y = np.array([[0, -i],\n",
        "                  [i, 0]])\n",
        "O = np.array ([[1,0],[1,1]])\n",
        "A = np.dot(H,Y)\n",
        "\n",
        "mag = np.linalg.norm(A)\n",
        "angle = np.angle(A)\n",
        "print (A)\n",
        "print(\"Angle:\",angle)\n",
        "print(\"Magnitude:\",mag)\n",
        "\n",
        "\n"
      ]
    },
    {
      "cell_type": "code",
      "source": [
        "import numpy as np\n",
        "import matplotlib.pyplot as plt\n",
        "\n",
        "def plot_quiv(x, t_mat=np.eye(2)):\n",
        "    x_prime = x @ t_mat\n",
        "    size = (2, 2)\n",
        "    plt.figure(figsize=(4, 4))\n",
        "\n",
        "    plt.xlim(-size[0], size[0])\n",
        "    plt.ylim(-size[1], size[1])\n",
        "    plt.xticks(np.arange((-size[0]), size[0] + 1, 1.0))\n",
        "    plt.yticks(np.arange((-size[1]), size[1] + 1, 1.0))\n",
        "\n",
        "\n",
        "    plt.quiver([0, 0], [0, 0], x_prime.real[0, :], x_prime.real[1, :],\n",
        "               angles='xy', scale_units='xy', scale=1, color='red', label='Real')\n",
        "    plt.quiver([0, 0], [0, 0], x_prime.imag[0, :], x_prime.imag[1, :],\n",
        "               angles='xy', scale_units='xy', scale=1, color='blue', label='H@Y')\n",
        "\n",
        "    plt.legend()\n",
        "    plt.grid()\n",
        "    plt.show()\n",
        "plot_quiv(A)\n"
      ],
      "metadata": {
        "colab": {
          "base_uri": "https://localhost:8080/",
          "height": 374
        },
        "id": "1HExmS4FhEeH",
        "outputId": "ed87393f-88c4-45f0-c13b-bbd9a33233f6"
      },
      "execution_count": 19,
      "outputs": [
        {
          "output_type": "display_data",
          "data": {
            "text/plain": [
              "<Figure size 400x400 with 1 Axes>"
            ],
            "image/png": "[encoded data removed]"
          },
          "metadata": {}
        }
      ]
    },
    {
      "cell_type": "markdown",
      "source": [
        "2. Y ⋅ H"
      ],
      "metadata": {
        "id": "vhMJjxPpCZgg"
      }
    },
    {
      "cell_type": "code",
      "source": [
        "i=1j\n",
        "H = 1/np.sqrt(2) * np.array([[1, 1],\n",
        "                            [1,-1]])\n",
        "Y = np.array([[0, -i],\n",
        "                  [i, 0]])\n",
        "O = np.array ([[1,0],[1,1]])\n",
        "D = np.dot(Y,H)\n",
        "B = np.dot(Y,H)\n",
        "mag = np.linalg.norm(B)\n",
        "angle = np.angle(B)\n",
        "print (B)\n",
        "print(\"Angle:\",angle)\n",
        "print(\"Magnitude:\",mag)\n"
      ],
      "metadata": {
        "colab": {
          "base_uri": "https://localhost:8080/"
        },
        "id": "ZMLYJoTXCXnV",
        "outputId": "e3fd5044-ae04-4fba-9dc6-67410e6e3ad0"
      },
      "execution_count": 69,
      "outputs": [
        {
          "output_type": "stream",
          "name": "stdout",
          "text": [
            "[[0.-0.70710678j 0.+0.70710678j]\n",
            " [0.+0.70710678j 0.+0.70710678j]]\n",
            "Angle: [[-1.57079633  1.57079633]\n",
            " [ 1.57079633  1.57079633]]\n",
            "Magnitude: 1.414213562373095\n"
          ]
        }
      ]
    },
    {
      "cell_type": "code",
      "source": [
        "import numpy as np\n",
        "import matplotlib.pyplot as plt\n",
        "\n",
        "def plot_quiv(x, t_mat=np.eye(2)):\n",
        "    x_prime = x @ t_mat\n",
        "    size = (2, 2)\n",
        "    plt.figure(figsize=(4, 4))\n",
        "\n",
        "    plt.xlim(-size[0], size[0])\n",
        "    plt.ylim(-size[1], size[1])\n",
        "    plt.xticks(np.arange((-size[0]), size[0] + 1, 1.0))\n",
        "    plt.yticks(np.arange((-size[1]), size[1] + 1, 1.0))\n",
        "\n",
        "\n",
        "    plt.quiver([0, 0], [0, 0], x_prime.imag[0, :], x_prime.imag[1, :],\n",
        "               angles='xy', scale_units='xy', scale=1, color='blue', label='Y@H')\n",
        "\n",
        "    plt.legend()\n",
        "    plt.grid()\n",
        "    plt.show()\n",
        "plot_quiv(B)\n"
      ],
      "metadata": {
        "colab": {
          "base_uri": "https://localhost:8080/",
          "height": 374
        },
        "id": "PVvQ7YnNt4Cu",
        "outputId": "cf9b3f49-ed01-429d-8333-a627e8b5061c"
      },
      "execution_count": 70,
      "outputs": [
        {
          "output_type": "display_data",
          "data": {
            "text/plain": [
              "<Figure size 400x400 with 1 Axes>"
            ],
            "image/png": "[encoded data removed]"
          },
          "metadata": {}
        }
      ]
    },
    {
      "cell_type": "markdown",
      "source": [
        "3. H ⋅ H"
      ],
      "metadata": {
        "id": "OLGLcrcst5RH"
      }
    },
    {
      "cell_type": "code",
      "source": [
        "i=1j\n",
        "H = 1/np.sqrt(2) * np.array([[1, 1],\n",
        "                            [1,-1]])\n",
        "Y = np.array([[0, -i],\n",
        "                  [i, 0]])\n",
        "O = np.array ([[1,0],[1,1]])\n",
        "D = np.dot(Y,H)\n",
        "C = np.dot(H,H)\n",
        "mag = np.linalg.norm(C)\n",
        "angle = np.angle(C)\n",
        "print (C)\n",
        "print(\"Angle:\",angle)\n",
        "print(\"Magnitude:\",mag)\n"
      ],
      "metadata": {
        "colab": {
          "base_uri": "https://localhost:8080/"
        },
        "id": "vjUrMf-2t4qQ",
        "outputId": "48c36145-4daf-4c93-fbf4-b6d583af1553"
      },
      "execution_count": 49,
      "outputs": [
        {
          "output_type": "stream",
          "name": "stdout",
          "text": [
            "[[ 1.00000000e+00 -2.23711432e-17]\n",
            " [-2.23711432e-17  1.00000000e+00]]\n",
            "Angle: [[0.         3.14159265]\n",
            " [3.14159265 0.        ]]\n",
            "Magnitude: 1.4142135623730947\n"
          ]
        }
      ]
    },
    {
      "cell_type": "code",
      "source": [
        "import numpy as np\n",
        "import matplotlib.pyplot as plt\n",
        "\n",
        "def plot_quiv(x, t_mat=np.eye(2)):\n",
        "    x_prime = x @ t_mat\n",
        "    size = (2, 2)\n",
        "    plt.figure(figsize=(4, 4))\n",
        "\n",
        "    plt.xlim(-size[0], size[0])\n",
        "    plt.ylim(-size[1], size[1])\n",
        "    plt.xticks(np.arange((-size[0]), size[0] + 1, 1.0))\n",
        "    plt.yticks(np.arange((-size[1]), size[1] + 1, 1.0))\n",
        "\n",
        "    plt.quiver([0,0],[0,0], x_prime[0,:], x_prime[1,:],\n",
        "               angles='xy', scale_units='xy',scale=1,\n",
        "               color=['red','blue'],label = \"H@H\")\n",
        "\n",
        "    plt.legend()\n",
        "    plt.grid()\n",
        "    plt.show()\n",
        "plot_quiv(C)\n"
      ],
      "metadata": {
        "colab": {
          "base_uri": "https://localhost:8080/",
          "height": 374
        },
        "id": "3cdNj57Cu340",
        "outputId": "98c0fac9-33a6-4593-a106-4ee62622e82d"
      },
      "execution_count": 83,
      "outputs": [
        {
          "output_type": "display_data",
          "data": {
            "text/plain": [
              "<Figure size 400x400 with 1 Axes>"
            ],
            "image/png": "[encoded data removed]"
          },
          "metadata": {}
        }
      ]
    },
    {
      "cell_type": "markdown",
      "source": [
        "4. Y ⋅ H ⋅ O"
      ],
      "metadata": {
        "id": "qRq6pM-iu4MX"
      }
    },
    {
      "cell_type": "code",
      "source": [
        "i=1j\n",
        "H = 1/np.sqrt(2) * np.array([[1, 1],\n",
        "                            [1,-1]])\n",
        "Y = np.array([[0, -i],\n",
        "                  [i, 0]])\n",
        "O = np.array ([[1,0],[1,1]])\n",
        "D = np.dot(Y,H)\n",
        "D1 = np.dot (D,O)\n",
        "mag = np.linalg.norm(D1)\n",
        "angle = np.angle(D1)\n",
        "print (D1)\n",
        "print(\"Angle:\",angle)\n",
        "print(\"Magnitude:\",mag)\n",
        "\n"
      ],
      "metadata": {
        "colab": {
          "base_uri": "https://localhost:8080/"
        },
        "id": "a9nhsgR9vAn5",
        "outputId": "d18a195a-a704-425a-b474-20cf543ebf1f"
      },
      "execution_count": 18,
      "outputs": [
        {
          "output_type": "stream",
          "name": "stdout",
          "text": [
            "[[0.+0.j         0.+0.70710678j]\n",
            " [0.+1.41421356j 0.+0.70710678j]]\n",
            "Angle: [[0.         1.57079633]\n",
            " [1.57079633 1.57079633]]\n",
            "Magnitude: 1.732050807568877\n"
          ]
        }
      ]
    },
    {
      "cell_type": "code",
      "source": [],
      "metadata": {
        "colab": {
          "base_uri": "https://localhost:8080/"
        },
        "id": "XJ-SCCO-jPRJ",
        "outputId": "ea07d401-444d-4a4b-fbb5-fed6497636de"
      },
      "execution_count": 16,
      "outputs": [
        {
          "output_type": "stream",
          "name": "stdout",
          "text": [
            "Angle: [[0.         1.57079633]\n",
            " [1.57079633 1.57079633]]\n",
            "Magnitude: 1.732050807568877\n"
          ]
        }
      ]
    },
    {
      "cell_type": "code",
      "source": [
        "import numpy as np\n",
        "import matplotlib.pyplot as plt\n",
        "\n",
        "def plot_quiv(x, t_mat=np.eye(2)):\n",
        "    x_prime = x @ t_mat\n",
        "    size = (2, 2)\n",
        "    plt.figure(figsize=(4, 4))\n",
        "\n",
        "    plt.xlim(-size[0], size[0])\n",
        "    plt.ylim(-size[1], size[1])\n",
        "    plt.xticks(np.arange((-size[0]), size[0] + 1, 1.0))\n",
        "    plt.yticks(np.arange((-size[1]), size[1] + 1, 1.0))\n",
        "\n",
        "\n",
        "    plt.quiver([0, 0], [0, 0], x_prime.imag[0, :], x_prime.imag[1, :],\n",
        "               angles='xy', scale_units='xy', scale=1, color='blue', label='Y@H@O')\n",
        "\n",
        "    plt.legend()\n",
        "    plt.grid()\n",
        "    plt.show()\n",
        "plot_quiv(D1)\n"
      ],
      "metadata": {
        "colab": {
          "base_uri": "https://localhost:8080/",
          "height": 374
        },
        "id": "hZ-of5p0v7mV",
        "outputId": "eeb2571c-bc20-482a-f050-899de3c7b2bf"
      },
      "execution_count": 91,
      "outputs": [
        {
          "output_type": "display_data",
          "data": {
            "text/plain": [
              "<Figure size 400x400 with 1 Axes>"
            ],
            "image/png": "[encoded data removed]"
          },
          "metadata": {}
        }
      ]
    },
    {
      "cell_type": "markdown",
      "source": [
        "5. H ⋅ Y ⋅ H · O"
      ],
      "metadata": {
        "id": "KhsFOyhVv8VC"
      }
    },
    {
      "cell_type": "code",
      "source": [
        "i=1j\n",
        "H = 1/np.sqrt(2) * np.array([[1, 1],\n",
        "                            [1,-1]])\n",
        "Y = np.array([[0, -i],\n",
        "                  [i, 0]])\n",
        "O = np.array ([[1,0],[1,1]])\n",
        "D = np.dot(Y,H)\n",
        "D = np.dot(H,Y)\n",
        "D1 = np.dot (D,H)\n",
        "D2 = np.dot(D1,O)\n",
        "mag = np.linalg.norm(D2)\n",
        "angle = np.angle(D2)\n",
        "print (D2)\n",
        "print(\"Angle:\",angle)\n",
        "print(\"Magnitude:\",mag)\n"
      ],
      "metadata": {
        "colab": {
          "base_uri": "https://localhost:8080/"
        },
        "id": "ab5DSjMFwFZG",
        "outputId": "d1d1c669-95ef-4aac-e570-e703f1562c97"
      },
      "execution_count": 52,
      "outputs": [
        {
          "output_type": "stream",
          "name": "stdout",
          "text": [
            "[[0.+1.00000000e+00j 0.+1.00000000e+00j]\n",
            " [0.-1.00000000e+00j 0.+2.23711432e-17j]]\n",
            "Angle: [[ 1.57079633  1.57079633]\n",
            " [-1.57079633  1.57079633]]\n",
            "Magnitude: 1.732050807568877\n"
          ]
        }
      ]
    },
    {
      "cell_type": "code",
      "source": [
        "import numpy as np\n",
        "import matplotlib.pyplot as plt\n",
        "\n",
        "def plot_quiv(x, t_mat=np.eye(2)):\n",
        "    x_prime = x @ t_mat\n",
        "    size = (2, 2)\n",
        "    plt.figure(figsize=(4, 4))\n",
        "\n",
        "    plt.xlim(-size[0], size[0])\n",
        "    plt.ylim(-size[1], size[1])\n",
        "    plt.xticks(np.arange((-size[0]), size[0] + 1, 1.0))\n",
        "    plt.yticks(np.arange((-size[1]), size[1] + 1, 1.0))\n",
        "\n",
        "\n",
        "    plt.quiver([0, 0], [0, 0], x_prime.imag[0, :], x_prime.imag[1, :],\n",
        "               angles='xy', scale_units='xy', scale=1, color='blue', label='H@Y@H@O')\n",
        "\n",
        "    plt.legend()\n",
        "    plt.grid()\n",
        "    plt.show()\n",
        "plot_quiv(D2)\n"
      ],
      "metadata": {
        "colab": {
          "base_uri": "https://localhost:8080/",
          "height": 374
        },
        "id": "BhLEYC84wVP1",
        "outputId": "a342caac-69fc-49cc-dd89-70415c6d6261"
      },
      "execution_count": 93,
      "outputs": [
        {
          "output_type": "display_data",
          "data": {
            "text/plain": [
              "<Figure size 400x400 with 1 Axes>"
            ],
            "image/png": "[encoded data removed]"
          },
          "metadata": {}
        }
      ]
    },
    {
      "cell_type": "code",
      "source": [],
      "metadata": {
        "id": "Qq8BPVGjY8cf"
      },
      "execution_count": null,
      "outputs": []
    },
    {
      "cell_type": "markdown",
      "source": [
        "#Part 2\n",
        "\n",
        "##### [50 pts] Solve for the determinants of 𝐻 and 𝑌. Provide necessary solutions numerically (handsolved) and computationally (using a Python program)\n",
        "\n"
      ],
      "metadata": {
        "id": "xbIbDbXw6TNd"
      }
    },
    {
      "cell_type": "code",
      "source": [
        "ans1 = np.linalg.det(H)\n",
        "ans2 = np.linalg.det(Y)\n",
        "print(H)\n",
        "print(Y)\n",
        "print (ans1)\n",
        "print (ans2)"
      ],
      "metadata": {
        "colab": {
          "base_uri": "https://localhost:8080/"
        },
        "id": "rbgI3Zqo6hnB",
        "outputId": "f1730f7b-a3ae-4574-bcf6-ff676bf8052e"
      },
      "execution_count": 98,
      "outputs": [
        {
          "output_type": "stream",
          "name": "stdout",
          "text": [
            "[[ 0.70710678  0.70710678]\n",
            " [ 0.70710678 -0.70710678]]\n",
            "[[ 0.+0.j -0.-1.j]\n",
            " [ 0.+1.j  0.+0.j]]\n",
            "-0.9999999999999999\n",
            "(-1+0j)\n"
          ]
        }
      ]
    },
    {
      "cell_type": "markdown",
      "source": [
        "#Part 3\n",
        "####[50 pts] Determine whether the resulting linear transformations are linearly dependent. Provide necessary solutions both numerically using determinants (hand-solved) and computationally (using a Python program).\n",
        "\n",
        "\n",
        "\\begin{split}\n",
        "1. \\begin{pmatrix}\n",
        "5 & 0 & 0 \\\\\n",
        "0 & 5 & 0 \\\\\n",
        "0 & 0 & 5 \\\\\n",
        "\\end{pmatrix} \\cdot\n",
        "\\begin{pmatrix}\n",
        "1 & 0 & 5 \\\\\n",
        "2 & 7 & 6 \\\\\n",
        "6 & 4 & 7 \\\\\n",
        "\\end{pmatrix}\n",
        "\\end{split}\n",
        "\n",
        "\\\n",
        "\n",
        "\\begin{split}\n",
        "2. \\begin{pmatrix}\n",
        "1 & 2 & 6 \\\\\n",
        "3 & 15 & 4 \\\\\n",
        "2 & 10 & 3 \\\\\n",
        "\\end{pmatrix}⋅\n",
        "\\begin{pmatrix}\n",
        "5 & 2 & 4 \\\\\n",
        "6 & 2 & 4 \\\\\n",
        "0 & 1 & 1 \\\\\n",
        "\\end{pmatrix}\n",
        "\\end{split}\n",
        "\n",
        "\n",
        "\n",
        "\n",
        "\n",
        "\n",
        "\n"
      ],
      "metadata": {
        "id": "8un1HRC072Si"
      }
    },
    {
      "cell_type": "code",
      "source": [
        "mat_1 = np.array([[5,0,0],\n",
        "                  [0,5,0],\n",
        "                  [0,0,5]])\n",
        "mat_2 = np.array([[1,0,5],\n",
        "                  [2,7,6],\n",
        "                  [6,4,7]])\n",
        "mat_3 = np.array([[1,2,6],\n",
        "                  [3,15,4],\n",
        "                  [2,10,3]])\n",
        "mat_4 = np.array([[5,2,4],\n",
        "                  [6,2,4],\n",
        "                  [0,1,1]])\n",
        "d1 = np.dot(mat_1,mat_2)\n",
        "d2 = np.dot(mat_3,mat_4)\n",
        "\n",
        "det_1 = np.linalg.det(d1)\n",
        "det_2 = np.linalg.det(d2)\n",
        "\n",
        "if det_1 != 0 and det_2 !=0:\n",
        "  print(\"Both are linearly independent\")\n",
        "if det_1 != 0 and det_2 ==0:\n",
        "  print(\"First det is independent Second det is dependent\")\n",
        "if det_1 == 0 and det_2 !=0:\n",
        "  print(\"First det is dependent Second det is independent\")\n",
        "\n",
        "\n",
        "\n",
        "\n"
      ],
      "metadata": {
        "colab": {
          "base_uri": "https://localhost:8080/"
        },
        "id": "TsWfJihg9c3w",
        "outputId": "34290cf7-e0b3-494d-945f-1064c039dc7e"
      },
      "execution_count": 11,
      "outputs": [
        {
          "output_type": "stream",
          "name": "stdout",
          "text": [
            "Both are linearly independent\n"
          ]
        }
      ]
    },
    {
      "cell_type": "code",
      "source": [],
      "metadata": {
        "id": "O4CGnR6-_nyX"
      },
      "execution_count": null,
      "outputs": []
    },
    {
      "cell_type": "markdown",
      "source": [
        "#Part 4\n",
        "####. [50 pts] Plot the signal corresponding to the following vectors whereas 𝑇 is the time vector and 𝐺 is the vector corresponding to the amplitudes of the signal.\n",
        "\\begin{align*}\n",
        "T &= \\begin{bmatrix}\n",
        "0 & \\pi & \\frac{\\pi}{4} & \\frac{3\\pi}{4} & \\pi\n",
        "\\end{bmatrix}; \\\\\n",
        "G &= \\begin{aligned}\n",
        "& \\begin{bmatrix}\n",
        "5 & 3 & 0 & -3 & 5\n",
        "\\end{bmatrix}\n",
        "\\end{aligned}\n",
        "\\end{align*}\n"
      ],
      "metadata": {
        "id": "xXqEGSxOmfgh"
      }
    },
    {
      "cell_type": "code",
      "source": [
        "import numpy as np\n",
        "import matplotlib.pyplot as plt\n",
        "\n",
        "Time = np.array([0, np.pi/4, np.pi/2, 3*np.pi/4, np.pi])\n",
        "\n",
        "Gsig = np.array([5, 3, 0, -3, 5])\n",
        "\n",
        "plt.plot(Time, Gsig, marker='*', linestyle='-.',color='purple')\n",
        "\n",
        "plt.xlabel('Time (T)')\n",
        "plt.ylabel('Amplitude (G)')\n",
        "plt.title('Signal Amplitudes vs. Time')\n",
        "\n",
        "plt.grid()\n",
        "plt.show()\n"
      ],
      "metadata": {
        "colab": {
          "base_uri": "https://localhost:8080/",
          "height": 472
        },
        "id": "uVgG7n-_n5e0",
        "outputId": "a99f0e20-86cf-42f5-d8de-93d72772d0ce"
      },
      "execution_count": 27,
      "outputs": [
        {
          "output_type": "display_data",
          "data": {
            "text/plain": [
              "<Figure size 640x480 with 1 Axes>"
            ],
            "image/png": "[encoded data removed]"
          },
          "metadata": {}
        }
      ]
    }
  ]
}