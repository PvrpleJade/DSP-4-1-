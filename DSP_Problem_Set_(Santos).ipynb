{
  "nbformat": 4,
  "nbformat_minor": 0,
  "metadata": {
    "colab": {
      "provenance": [],
      "authorship_tag": "ABX9TyM3pcrc4lyWw3zjGNpF4UPF",
      "include_colab_link": true
    },
    "kernelspec": {
      "name": "python3",
      "display_name": "Python 3"
    },
    "language_info": {
      "name": "python"
    }
  },
  "cells": [
    {
      "cell_type": "markdown",
      "metadata": {
        "id": "view-in-github",
        "colab_type": "text"
      },
      "source": [
        "<a href=\"https://colab.research.google.com/github/PvrpleJade/DSP-4-1-/blob/main/DSP_Problem_Set_(Santos).ipynb\" target=\"_parent\"><img src=\"https://colab.research.google.com/assets/colab-badge.svg\" alt=\"Open In Colab\"/></a>"
      ]
    },
    {
      "cell_type": "markdown",
      "source": [
        "#Part 1\n",
        "\n",
        "#####[150 pts] Solve for the magnitude and angle of the linear transformations given. Provide necessary solutions numerically (hand-solved) and computationally (using a Python program). Also provide the necessary solutions vector plots of the given matrices and their transformations (nos. 1-5.)\n",
        "\n",
        "H = $\\frac{1}{\\sqrt{2}} \\begin{bmatrix}\n",
        "1 & 1 \\\\\n",
        "1 & -1\n",
        "\\end{bmatrix} , Y =\\begin{bmatrix}\n",
        "0 & -i \\\\\n",
        "i & 0\n",
        "\\end{bmatrix} , O =\\begin{bmatrix}\n",
        "1 & 0 \\\\\n",
        "1 & 1\n",
        "\\end{bmatrix}$\n",
        "\n",
        "\n"
      ],
      "metadata": {
        "id": "QZIps08d_hHR"
      }
    },
    {
      "cell_type": "markdown",
      "source": [
        "1. H ⋅ Y"
      ],
      "metadata": {
        "id": "2Y_qhAqRBDQH"
      }
    },
    {
      "cell_type": "code",
      "execution_count": 3,
      "metadata": {
        "colab": {
          "base_uri": "https://localhost:8080/"
        },
        "id": "o3rBUkIo_a-p",
        "outputId": "ab5a7cc3-19ae-4dd8-9397-fd63c57e5b99"
      },
      "outputs": [
        {
          "output_type": "stream",
          "name": "stdout",
          "text": [
            "[[0.+0.70710678j 0.-0.70710678j]\n",
            " [0.-0.70710678j 0.-0.70710678j]]\n",
            "Angle: -90.0\n",
            "Magnitude: 1.41421356\n",
            "-1.5707963267948966\n"
          ]
        }
      ],
      "source": [
        "import numpy as np\n",
        "import matplotlib.pyplot as plt\n",
        "\n",
        "i = 1j\n",
        "H = 0.7071067812 * np.array([[1, 1],\n",
        "                               [1, -1]])\n",
        "Y = np.array([[0, -i],\n",
        "              [i, 0]])\n",
        "O = np.array([[1, 0], [1, 1]])\n",
        "A = np.dot(H, Y)\n",
        "HY = np.array([[ 0.        +0.70710678j, -0.        -0.70710678j],\n",
        "            [ 0.        -0.70710678j,  0.        -0.70710678j]])\n",
        "mag = np.linalg.norm(HY)\n",
        "angle = np.angle(np.sum(HY))\n",
        "rad = np.rad2deg(angle)\n",
        "print(A)\n",
        "print(\"Angle:\", rad)\n",
        "print(\"Magnitude:\", mag)\n",
        "print(angle)\n"
      ]
    },
    {
      "cell_type": "code",
      "source": [
        "import numpy as np\n",
        "import matplotlib.pyplot as plt\n",
        "\n",
        "def plot_quiv(x, t_mat=np.eye(2)):\n",
        "    x_prime = x @ t_mat\n",
        "    size = (2, 2)\n",
        "    plt.figure(figsize=(4, 4))\n",
        "\n",
        "    plt.xlim(-size[0], size[0])\n",
        "    plt.ylim(-size[1], size[1])\n",
        "    plt.xticks(np.arange((-size[0]), size[0] + 1, 1.0))\n",
        "    plt.yticks(np.arange((-size[1]), size[1] + 1, 1.0))\n",
        "\n",
        "    plt.quiver([0, 0], [0, 0], x_prime.real[0, :], x_prime.real[1, :],\n",
        "               angles='xy', scale_units='xy', scale=1, color='red', label=\"Real\")\n",
        "    plt.quiver([0, 0], [0, 0], x_prime.imag[0, :], x_prime.imag[1, :],\n",
        "               angles='xy', scale_units='xy', scale=1, color='blue', label=\"Imaginary\")\n",
        "\n",
        "    plt.legend()\n",
        "    plt.grid()\n",
        "    plt.show()\n",
        "\n",
        "i = 1j\n",
        "H = 1 / np.sqrt(2) * np.array([[1, 1],\n",
        "                               [1, -1]])\n",
        "Y = np.array([[0, -i],\n",
        "              [i, 0]])\n",
        "plot_quiv(A)\n"
      ],
      "metadata": {
        "colab": {
          "base_uri": "https://localhost:8080/",
          "height": 374
        },
        "id": "1HExmS4FhEeH",
        "outputId": "9351acda-8e2d-4618-aaeb-73fade40ec6c"
      },
      "execution_count": 7,
      "outputs": [
        {
          "output_type": "display_data",
          "data": {
            "text/plain": [
              "<Figure size 400x400 with 1 Axes>"
            ],
            "image/png": "[encoded data removed]"
          },
          "metadata": {}
        }
      ]
    },
    {
      "cell_type": "markdown",
      "source": [
        "2. Y ⋅ H"
      ],
      "metadata": {
        "id": "vhMJjxPpCZgg"
      }
    },
    {
      "cell_type": "code",
      "source": [
        "i=1j\n",
        "H = 0.7071067812 * np.array([[1, 1],\n",
        "                            [1,-1]])\n",
        "Y = np.array([[0, -i],\n",
        "                  [i, 0]])\n",
        "O = np.array ([[1,0],[1,1]])\n",
        "D = np.dot(Y,H)\n",
        "B = np.dot(Y,H)\n",
        "YH = np.array([[0 - 0.70710678j, 0 + 0.70710678j],\n",
        "               [0 + 0.70710678j, 0 + 0.70710678j]])\n",
        "\n",
        "\n",
        "mag = np.linalg.norm(YH)\n",
        "angle = np.angle(np.sum(YH))\n",
        "rad = np.rad2deg(angle)\n",
        "print (B)\n",
        "print(\"Angle:\",rad)\n",
        "print(\"Magnitude:\",mag)\n"
      ],
      "metadata": {
        "colab": {
          "base_uri": "https://localhost:8080/"
        },
        "id": "ZMLYJoTXCXnV",
        "outputId": "ea00c05c-e847-4775-b0e2-b40b1459ebe0"
      },
      "execution_count": 8,
      "outputs": [
        {
          "output_type": "stream",
          "name": "stdout",
          "text": [
            "[[0.-0.70710678j 0.+0.70710678j]\n",
            " [0.+0.70710678j 0.+0.70710678j]]\n",
            "Angle: 90.0\n",
            "Magnitude: 1.41421356\n"
          ]
        }
      ]
    },
    {
      "cell_type": "code",
      "source": [
        "import numpy as np\n",
        "import matplotlib.pyplot as plt\n",
        "\n",
        "def plot_quiv(x, t_mat=np.eye(2)):\n",
        "    x_prime = x @ t_mat\n",
        "    size = (2, 2)\n",
        "    plt.figure(figsize=(4, 4))\n",
        "\n",
        "    plt.xlim(-size[0], size[0])\n",
        "    plt.ylim(-size[1], size[1])\n",
        "    plt.xticks(np.arange((-size[0]), size[0] + 1, 1.0))\n",
        "    plt.yticks(np.arange((-size[1]), size[1] + 1, 1.0))\n",
        "\n",
        "\n",
        "    plt.quiver([0, 0], [0, 0], x_prime.imag[0, :], x_prime.imag[1, :],\n",
        "               angles='xy', scale_units='xy', scale=1, color='blue', label='Y@H')\n",
        "\n",
        "    plt.legend()\n",
        "    plt.grid()\n",
        "    plt.show()\n",
        "plot_quiv(B)\n"
      ],
      "metadata": {
        "colab": {
          "base_uri": "https://localhost:8080/",
          "height": 374
        },
        "id": "PVvQ7YnNt4Cu",
        "outputId": "7530d3ec-bb2d-43bd-9e7a-c650988c11f3"
      },
      "execution_count": 9,
      "outputs": [
        {
          "output_type": "display_data",
          "data": {
            "text/plain": [
              "<Figure size 400x400 with 1 Axes>"
            ],
            "image/png": "[encoded data removed]"
          },
          "metadata": {}
        }
      ]
    },
    {
      "cell_type": "markdown",
      "source": [
        "3. H ⋅ H"
      ],
      "metadata": {
        "id": "OLGLcrcst5RH"
      }
    },
    {
      "cell_type": "code",
      "source": [
        "i=1j\n",
        "H = 0.7071067812 * np.array([[1, 1],\n",
        "                            [1,-1]])\n",
        "Y = np.array([[0, -i],\n",
        "                  [i, 0]])\n",
        "O = np.array ([[1,0],[1,1]])\n",
        "C = np.dot(H,H)\n",
        "\n",
        "HH = np.array([[ 1, -0],\n",
        " [-0,  1]])\n",
        "mag = np.linalg.norm(HH)\n",
        "angle = np.angle(np.sum(HH))\n",
        "rad = np.rad2deg(angle)\n",
        "print (C)\n",
        "print(\"Angle:\",rad)\n",
        "print(\"Magnitude:\",mag)\n",
        "print(angle)\n"
      ],
      "metadata": {
        "colab": {
          "base_uri": "https://localhost:8080/"
        },
        "id": "vjUrMf-2t4qQ",
        "outputId": "d33f8208-1c65-4884-9f1f-3468e21b69b3"
      },
      "execution_count": 17,
      "outputs": [
        {
          "output_type": "stream",
          "name": "stdout",
          "text": [
            "[[ 1.00000000e+00 -5.09432188e-17]\n",
            " [-5.09432188e-17  1.00000000e+00]]\n",
            "Angle: 0.0\n",
            "Magnitude: 1.4142135623730951\n",
            "0.0\n"
          ]
        }
      ]
    },
    {
      "cell_type": "code",
      "source": [
        "import numpy as np\n",
        "import matplotlib.pyplot as plt\n",
        "\n",
        "def plot_quiv(x, t_mat=np.eye(2)):\n",
        "    x_prime = x @ t_mat\n",
        "    size = (2, 2)\n",
        "    plt.figure(figsize=(4, 4))\n",
        "\n",
        "    plt.xlim(-size[0], size[0])\n",
        "    plt.ylim(-size[1], size[1])\n",
        "    plt.xticks(np.arange((-size[0]), size[0] + 1, 1.0))\n",
        "    plt.yticks(np.arange((-size[1]), size[1] + 1, 1.0))\n",
        "\n",
        "    plt.quiver([0,0],[0,0], x_prime[0,:], x_prime[1,:],\n",
        "               angles='xy', scale_units='xy',scale=1,\n",
        "               color=['red','blue'],label = \"H@H\")\n",
        "\n",
        "    plt.legend()\n",
        "    plt.grid()\n",
        "    plt.show()\n",
        "plot_quiv(C)\n"
      ],
      "metadata": {
        "colab": {
          "base_uri": "https://localhost:8080/",
          "height": 374
        },
        "id": "3cdNj57Cu340",
        "outputId": "efa4d776-e28e-4b6e-a4c7-fa41dc8182f2"
      },
      "execution_count": 10,
      "outputs": [
        {
          "output_type": "display_data",
          "data": {
            "text/plain": [
              "<Figure size 400x400 with 1 Axes>"
            ],
            "image/png": "[encoded data removed]"
          },
          "metadata": {}
        }
      ]
    },
    {
      "cell_type": "markdown",
      "source": [
        "4. Y ⋅ H ⋅ O"
      ],
      "metadata": {
        "id": "qRq6pM-iu4MX"
      }
    },
    {
      "cell_type": "code",
      "source": [
        "i=1j\n",
        "H = 0.7071067812 * np.array([[1, 1],\n",
        "                            [1,-1]])\n",
        "Y = np.array([[0, -i],\n",
        "                  [i, 0]])\n",
        "O = np.array ([[1,0],[1,1]])\n",
        "D = np.dot(Y,H)\n",
        "D1 = np.dot (D,O)\n",
        "YHO = np.array([[0.+0.j,         0.+0.70710678j],\n",
        " [0.+1.41421356j, 0.+0.70710678j]])\n",
        "mag = np.linalg.norm(D1)\n",
        "angle = np.angle(np.sum(YHO))\n",
        "rad = np.rad2deg(angle)\n",
        "print (D1)\n",
        "print(\"Angle:\",rad)\n",
        "print(\"Magnitude:\",mag)\n",
        "print(angle)\n",
        "\n"
      ],
      "metadata": {
        "colab": {
          "base_uri": "https://localhost:8080/"
        },
        "id": "a9nhsgR9vAn5",
        "outputId": "65afbae2-e943-412c-ec87-920e3c99ee00"
      },
      "execution_count": 11,
      "outputs": [
        {
          "output_type": "stream",
          "name": "stdout",
          "text": [
            "[[0.+0.j         0.+0.70710678j]\n",
            " [0.+1.41421356j 0.+0.70710678j]]\n",
            "Angle: 90.0\n",
            "Magnitude: 1.7320508076018288\n",
            "1.5707963267948966\n"
          ]
        }
      ]
    },
    {
      "cell_type": "code",
      "source": [
        "import numpy as np\n",
        "import matplotlib.pyplot as plt\n",
        "\n",
        "def plot_quiv(x, t_mat=np.eye(2)):\n",
        "    x_prime = x @ t_mat\n",
        "    size = (2, 2)\n",
        "    plt.figure(figsize=(4, 4))\n",
        "\n",
        "    plt.xlim(-size[0], size[0])\n",
        "    plt.ylim(-size[1], size[1])\n",
        "    plt.xticks(np.arange((-size[0]), size[0] + 1, 1.0))\n",
        "    plt.yticks(np.arange((-size[1]), size[1] + 1, 1.0))\n",
        "\n",
        "\n",
        "    plt.quiver([0, 0], [0, 0], x_prime.imag[0, :], x_prime.imag[1, :],\n",
        "               angles='xy', scale_units='xy', scale=1, color='blue', label='Y@H@O')\n",
        "\n",
        "    plt.legend()\n",
        "    plt.grid()\n",
        "    plt.show()\n",
        "plot_quiv(D1)\n"
      ],
      "metadata": {
        "colab": {
          "base_uri": "https://localhost:8080/",
          "height": 374
        },
        "id": "hZ-of5p0v7mV",
        "outputId": "eeb2571c-bc20-482a-f050-899de3c7b2bf"
      },
      "execution_count": 91,
      "outputs": [
        {
          "output_type": "display_data",
          "data": {
            "text/plain": [
              "<Figure size 400x400 with 1 Axes>"
            ],
            "image/png": "[encoded data removed]"
          },
          "metadata": {}
        }
      ]
    },
    {
      "cell_type": "markdown",
      "source": [
        "5. H ⋅ Y ⋅ H · O"
      ],
      "metadata": {
        "id": "KhsFOyhVv8VC"
      }
    },
    {
      "cell_type": "code",
      "source": [
        "i=1j\n",
        "H = 0.7071067812 * np.array([[1, 1],\n",
        "                            [1,-1]])\n",
        "Y = np.array([[0, -i],\n",
        "                  [i, 0]])\n",
        "O = np.array ([[1,0],[1,1]])\n",
        "D = np.dot(Y,H)\n",
        "D = np.dot(H,Y)\n",
        "D1 = np.dot (D,H)\n",
        "D2 = np.dot(D1,O)\n",
        "HYHO = np.array([[0.+1.00000000e+00j, 0.+1.00000000e+00j],\n",
        " [0.-1.00000000e+00j, 0.+2.23711432e-17j]])\n",
        "mag = np.linalg.norm(HYHO)\n",
        "angle = np.angle(np.sum(HYHO))\n",
        "rad = np.rad2deg(angle)\n",
        "print (D2)\n",
        "print(\"Angle:\",rad)\n",
        "print(\"Magnitude:\",mag)\n"
      ],
      "metadata": {
        "colab": {
          "base_uri": "https://localhost:8080/"
        },
        "id": "ab5DSjMFwFZG",
        "outputId": "6138268c-3294-47c4-8892-9993279e6d8d"
      },
      "execution_count": 110,
      "outputs": [
        {
          "output_type": "stream",
          "name": "stdout",
          "text": [
            "[[0.+1.00000000e+00j 0.+1.00000000e+00j]\n",
            " [0.-1.00000000e+00j 0.+5.09432188e-17j]]\n",
            "Angle: 90.0\n",
            "Magnitude: 1.7320508075688772\n"
          ]
        }
      ]
    },
    {
      "cell_type": "code",
      "source": [
        "import numpy as np\n",
        "import matplotlib.pyplot as plt\n",
        "\n",
        "def plot_quiv(x, t_mat=np.eye(2)):\n",
        "    x_prime = x @ t_mat\n",
        "    size = (2, 2)\n",
        "    plt.figure(figsize=(4, 4))\n",
        "\n",
        "    plt.xlim(-size[0], size[0])\n",
        "    plt.ylim(-size[1], size[1])\n",
        "    plt.xticks(np.arange((-size[0]), size[0] + 1, 1.0))\n",
        "    plt.yticks(np.arange((-size[1]), size[1] + 1, 1.0))\n",
        "\n",
        "\n",
        "    plt.quiver([0, 0], [0, 0], x_prime.imag[0, :], x_prime.imag[1, :],\n",
        "               angles='xy', scale_units='xy', scale=1, color='blue', label='H@Y@H@O')\n",
        "\n",
        "    plt.legend()\n",
        "    plt.grid()\n",
        "    plt.show()\n",
        "plot_quiv(D2)\n"
      ],
      "metadata": {
        "colab": {
          "base_uri": "https://localhost:8080/",
          "height": 374
        },
        "id": "BhLEYC84wVP1",
        "outputId": "a342caac-69fc-49cc-dd89-70415c6d6261"
      },
      "execution_count": 93,
      "outputs": [
        {
          "output_type": "display_data",
          "data": {
            "text/plain": [
              "<Figure size 400x400 with 1 Axes>"
            ],
            "image/png": "[encoded data removed]"
          },
          "metadata": {}
        }
      ]
    },
    {
      "cell_type": "code",
      "source": [],
      "metadata": {
        "id": "Qq8BPVGjY8cf"
      },
      "execution_count": null,
      "outputs": []
    },
    {
      "cell_type": "markdown",
      "source": [
        "#Part 2\n",
        "\n",
        "##### [50 pts] Solve for the determinants of 𝐻 and 𝑌. Provide necessary solutions numerically (handsolved) and computationally (using a Python program)\n",
        "\n"
      ],
      "metadata": {
        "id": "xbIbDbXw6TNd"
      }
    },
    {
      "cell_type": "code",
      "source": [
        "ans1 = np.linalg.det(H)\n",
        "ans2 = np.linalg.det(Y)\n",
        "print(H)\n",
        "print(Y)\n",
        "print (ans1)\n",
        "print (ans2)"
      ],
      "metadata": {
        "colab": {
          "base_uri": "https://localhost:8080/"
        },
        "id": "rbgI3Zqo6hnB",
        "outputId": "f1730f7b-a3ae-4574-bcf6-ff676bf8052e"
      },
      "execution_count": 98,
      "outputs": [
        {
          "output_type": "stream",
          "name": "stdout",
          "text": [
            "[[ 0.70710678  0.70710678]\n",
            " [ 0.70710678 -0.70710678]]\n",
            "[[ 0.+0.j -0.-1.j]\n",
            " [ 0.+1.j  0.+0.j]]\n",
            "-0.9999999999999999\n",
            "(-1+0j)\n"
          ]
        }
      ]
    },
    {
      "cell_type": "markdown",
      "source": [
        "#Part 3\n",
        "####[50 pts] Determine whether the resulting linear transformations are linearly dependent. Provide necessary solutions both numerically using determinants (hand-solved) and computationally (using a Python program).\n",
        "\n",
        "\n",
        "\\begin{split}\n",
        "1. \\begin{pmatrix}\n",
        "5 & 0 & 0 \\\\\n",
        "0 & 5 & 0 \\\\\n",
        "0 & 0 & 5 \\\\\n",
        "\\end{pmatrix} \\cdot\n",
        "\\begin{pmatrix}\n",
        "1 & 0 & 5 \\\\\n",
        "2 & 7 & 6 \\\\\n",
        "6 & 4 & 7 \\\\\n",
        "\\end{pmatrix}\n",
        "\\end{split}\n",
        "\n",
        "\\\n",
        "\n",
        "\\begin{split}\n",
        "2. \\begin{pmatrix}\n",
        "1 & 2 & 6 \\\\\n",
        "3 & 15 & 4 \\\\\n",
        "2 & 10 & 3 \\\\\n",
        "\\end{pmatrix}⋅\n",
        "\\begin{pmatrix}\n",
        "5 & 2 & 4 \\\\\n",
        "6 & 2 & 4 \\\\\n",
        "0 & 1 & 1 \\\\\n",
        "\\end{pmatrix}\n",
        "\\end{split}\n",
        "\n",
        "\n",
        "\n",
        "\n",
        "\n",
        "\n",
        "\n"
      ],
      "metadata": {
        "id": "8un1HRC072Si"
      }
    },
    {
      "cell_type": "code",
      "source": [
        "mat_1 = np.array([[5,0,0],\n",
        "                  [0,5,0],\n",
        "                  [0,0,5]])\n",
        "mat_2 = np.array([[1,0,5],\n",
        "                  [2,7,6],\n",
        "                  [6,4,7]])\n",
        "mat_3 = np.array([[1,2,6],\n",
        "                  [3,15,4],\n",
        "                  [2,10,3]])\n",
        "mat_4 = np.array([[5,2,4],\n",
        "                  [6,2,4],\n",
        "                  [0,1,1]])\n",
        "d1 = np.dot(mat_1,mat_2)\n",
        "d2 = np.dot(mat_3,mat_4)\n",
        "\n",
        "det_1 = np.linalg.det(d1)\n",
        "det_2 = np.linalg.det(d2)\n",
        "\n",
        "if det_1 != 0 and det_2 !=0:\n",
        "  print(\"Both are linearly independent\")\n",
        "if det_1 != 0 and det_2 ==0:\n",
        "  print(\"First det is independent Second det is dependent\")\n",
        "if det_1 == 0 and det_2 !=0:\n",
        "  print(\"First det is dependent Second det is independent\")\n",
        "\n",
        "\n",
        "\n",
        "\n"
      ],
      "metadata": {
        "colab": {
          "base_uri": "https://localhost:8080/"
        },
        "id": "TsWfJihg9c3w",
        "outputId": "34290cf7-e0b3-494d-945f-1064c039dc7e"
      },
      "execution_count": 11,
      "outputs": [
        {
          "output_type": "stream",
          "name": "stdout",
          "text": [
            "Both are linearly independent\n"
          ]
        }
      ]
    },
    {
      "cell_type": "code",
      "source": [],
      "metadata": {
        "id": "O4CGnR6-_nyX"
      },
      "execution_count": null,
      "outputs": []
    },
    {
      "cell_type": "markdown",
      "source": [
        "#Part 4\n",
        "####. [50 pts] Plot the signal corresponding to the following vectors whereas 𝑇 is the time vector and 𝐺 is the vector corresponding to the amplitudes of the signal.\n",
        "\\begin{align*}\n",
        "T &= \\begin{bmatrix}\n",
        "0 & \\pi & \\frac{\\pi}{4} & \\frac{3\\pi}{4} & \\pi\n",
        "\\end{bmatrix}; \\\\\n",
        "G &= \\begin{aligned}\n",
        "& \\begin{bmatrix}\n",
        "5 & 3 & 0 & -3 & 5\n",
        "\\end{bmatrix}\n",
        "\\end{aligned}\n",
        "\\end{align*}\n"
      ],
      "metadata": {
        "id": "xXqEGSxOmfgh"
      }
    },
    {
      "cell_type": "code",
      "source": [
        "import numpy as np\n",
        "import matplotlib.pyplot as plt\n",
        "\n",
        "Time = np.array([0, np.pi/4, np.pi/2, 3*np.pi/4, np.pi])\n",
        "\n",
        "Gsig = np.array([5, 3, 0, -3, 5])\n",
        "\n",
        "plt.plot(Time, Gsig, marker='*', linestyle='-.',color='purple')\n",
        "\n",
        "plt.xlabel('Time (T)')\n",
        "plt.ylabel('Amplitude (G)')\n",
        "plt.title('Amplitude and Time')\n",
        "\n",
        "plt.grid()\n",
        "plt.show()\n"
      ],
      "metadata": {
        "colab": {
          "base_uri": "https://localhost:8080/",
          "height": 472
        },
        "id": "uVgG7n-_n5e0",
        "outputId": "260f4b3a-9cef-4980-866b-60b87ff237fc"
      },
      "execution_count": 18,
      "outputs": [
        {
          "output_type": "display_data",
          "data": {
            "text/plain": [
              "<Figure size 640x480 with 1 Axes>"
            ],
            "image/png": "[encoded data removed]"
          },
          "metadata": {}
        }
      ]
    }
  ]
}