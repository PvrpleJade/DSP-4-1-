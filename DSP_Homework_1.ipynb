{
  "nbformat": 4,
  "nbformat_minor": 0,
  "metadata": {
    "colab": {
      "provenance": []
    },
    "kernelspec": {
      "name": "python3",
      "display_name": "Python 3"
    },
    "language_info": {
      "name": "python"
    }
  },
  "cells": [
    {
      "cell_type": "markdown",
      "source": [
        "#Problem 1\n",
        "\n",
        "det(h) =\n",
        "$\\frac{1}{\\sqrt{2}}$ $\\begin{bmatrix}\n",
        "1 & 1 \\\\\n",
        "1 &-1\n",
        "\\end{bmatrix}$\n"
      ],
      "metadata": {
        "id": "vrV6lf1ZuLzO"
      }
    },
    {
      "cell_type": "code",
      "execution_count": 9,
      "metadata": {
        "colab": {
          "base_uri": "https://localhost:8080/"
        },
        "id": "4rB1ze27mDHn",
        "outputId": "2b5b929d-8beb-4490-a7d1-b37258cb6dca"
      },
      "outputs": [
        {
          "output_type": "stream",
          "name": "stdout",
          "text": [
            "[[ 0.70710678  0.70710678]\n",
            " [ 0.70710678 -0.70710678]]\n",
            "-0.9999999999999999\n"
          ]
        }
      ],
      "source": [
        "import numpy as np\n",
        "\n",
        "\n",
        "matrix = 1/np.sqrt(2) * np.array([[1, 1],\n",
        "                            [1,-1]])\n",
        "\n",
        "determinant = np.linalg.det(matrix)\n",
        "print(matrix)\n",
        "print(determinant)"
      ]
    },
    {
      "cell_type": "markdown",
      "source": [
        "#Problem 2\n",
        "det(Y) =\n",
        " $\\begin{bmatrix}\n",
        "0 & -i \\\\\n",
        "i &0\n",
        "\\end{bmatrix}$\n"
      ],
      "metadata": {
        "id": "aLkmH_7yyL4d"
      }
    },
    {
      "cell_type": "code",
      "source": [
        "#Problem 2\n",
        "import numpy as np\n",
        "\n",
        "# Define the imaginary unit\n",
        "i = 1j\n",
        "\n",
        "# Create the matrix with complex numbers\n",
        "matrix = np.array([[0, -i],\n",
        "                  [i, 0]])\n",
        "\n",
        "# Calculate the determinant\n",
        "determinant = np.linalg.det(matrix)\n",
        "\n",
        "# Print the matrix and determinant\n",
        "print(matrix)\n",
        "print(determinant)"
      ],
      "metadata": {
        "colab": {
          "base_uri": "https://localhost:8080/"
        },
        "id": "ZSl5btQyuC-U",
        "outputId": "8acf2696-a5b2-4c74-b2e6-c86de4b8c6f6"
      },
      "execution_count": 11,
      "outputs": [
        {
          "output_type": "stream",
          "name": "stdout",
          "text": [
            "[[ 0.+0.j -0.-1.j]\n",
            " [ 0.+1.j  0.+0.j]]\n",
            "(-1+0j)\n"
          ]
        }
      ]
    },
    {
      "cell_type": "markdown",
      "source": [
        "#Problem 3\n",
        "H = $\\frac{1}{\\sqrt{2}} \\begin{bmatrix}\n",
        "1 & 1 \\\\\n",
        "1 & -1\n",
        "\\end{bmatrix} * Y =\\begin{bmatrix}\n",
        "0 & -i \\\\\n",
        "i & 0\n",
        "\\end{bmatrix}$\n",
        "\n"
      ],
      "metadata": {
        "id": "k0gZX7XZMgr-"
      }
    },
    {
      "cell_type": "code",
      "source": [
        "#Problem 3\n",
        "import numpy as np\n",
        "\n",
        "H = 1/np.sqrt(2) * np.array([[1, 1],\n",
        "                            [1,-1]])\n",
        "Y = np.array([[0, -i],\n",
        "                  [i, 0]])\n",
        "O = np.array ([[1,0],[1,1]])\n",
        "\n",
        "ans = np.dot (H,Y)\n",
        "print (ans)"
      ],
      "metadata": {
        "colab": {
          "base_uri": "https://localhost:8080/"
        },
        "id": "Upvuz4U1ODZS",
        "outputId": "c98ffe5e-41ca-41e3-906d-2d2979386e02"
      },
      "execution_count": 18,
      "outputs": [
        {
          "output_type": "stream",
          "name": "stdout",
          "text": [
            "[[0.+0.70710678j 0.-0.70710678j]\n",
            " [0.-0.70710678j 0.-0.70710678j]]\n"
          ]
        }
      ]
    },
    {
      "cell_type": "code",
      "source": [
        "#Problem 4\n",
        "Y @ H"
      ],
      "metadata": {
        "colab": {
          "base_uri": "https://localhost:8080/"
        },
        "id": "9A4roafXV7py",
        "outputId": "56e5883f-8392-4b91-dce9-84404a2005d1"
      },
      "execution_count": 14,
      "outputs": [
        {
          "output_type": "execute_result",
          "data": {
            "text/plain": [
              "array([[0.-0.70710678j, 0.+0.70710678j],\n",
              "       [0.+0.70710678j, 0.+0.70710678j]])"
            ]
          },
          "metadata": {},
          "execution_count": 14
        }
      ]
    },
    {
      "cell_type": "code",
      "source": [
        "#Problem 5\n",
        "H @ H"
      ],
      "metadata": {
        "colab": {
          "base_uri": "https://localhost:8080/"
        },
        "id": "uQgVjtVzWD8t",
        "outputId": "0ed23419-5ef2-4a01-81bc-8467604025d0"
      },
      "execution_count": 16,
      "outputs": [
        {
          "output_type": "execute_result",
          "data": {
            "text/plain": [
              "array([[ 1.00000000e+00, -2.23711432e-17],\n",
              "       [-2.23711432e-17,  1.00000000e+00]])"
            ]
          },
          "metadata": {},
          "execution_count": 16
        }
      ]
    },
    {
      "cell_type": "code",
      "source": [
        "#Problem 6\n",
        "Y @ H @ O"
      ],
      "metadata": {
        "colab": {
          "base_uri": "https://localhost:8080/"
        },
        "id": "ZqntaU5_WT23",
        "outputId": "2118c9fe-0e09-4a28-9853-51f17b7ce3ac"
      },
      "execution_count": 19,
      "outputs": [
        {
          "output_type": "execute_result",
          "data": {
            "text/plain": [
              "array([[0.+0.j        , 0.+0.70710678j],\n",
              "       [0.+1.41421356j, 0.+0.70710678j]])"
            ]
          },
          "metadata": {},
          "execution_count": 19
        }
      ]
    },
    {
      "cell_type": "code",
      "source": [
        "#Problem 7\n",
        "H @ Y @ H @ O"
      ],
      "metadata": {
        "colab": {
          "base_uri": "https://localhost:8080/"
        },
        "id": "fGuk9UA5W13u",
        "outputId": "627cb409-f6ea-46d4-9fd6-6f80bdc7e2bd"
      },
      "execution_count": 21,
      "outputs": [
        {
          "output_type": "execute_result",
          "data": {
            "text/plain": [
              "array([[0.+1.00000000e+00j, 0.+1.00000000e+00j],\n",
              "       [0.-1.00000000e+00j, 0.+2.23711432e-17j]])"
            ]
          },
          "metadata": {},
          "execution_count": 21
        }
      ]
    }
  ]
}